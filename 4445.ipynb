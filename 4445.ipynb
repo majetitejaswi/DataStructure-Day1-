{
 "cells": [
  {
   "cell_type": "code",
   "execution_count": 9,
   "id": "ca8f0d10-9731-4e93-ad5c-935fee517f83",
   "metadata": {},
   "outputs": [
    {
     "name": "stdout",
     "output_type": "stream",
     "text": [
      "[10, 20, 25, 30, 40, 50]\n",
      "10 20 25 40 /n 25 in array? True\n"
     ]
    }
   ],
   "source": [
    "'''# Array Operations\n",
    "# Program to consider a list arr=[10,20,30,40] and perform insert operations and deletion operation with 50 and 25 at position 2\n",
    "respectively , delete 30 and traverse the array to fetch a number 25 is present or not.'''\n",
    "arr=[10,20,30,40]\n",
    "#insert\n",
    "arr.append(50)\n",
    "arr.insert(2,25)\n",
    "print(arr)\n",
    "#delection\n",
    "arr.remove(30)\n",
    "arr.pop()\n",
    "#print(arr)\n",
    "#traversal\n",
    "for i in arr:\n",
    "    print(i, end=' ')\n",
    "#searching\n",
    "print(\"/n 25 in array?\" ,25 in arr)"
   ]
  },
  {
   "cell_type": "code",
   "execution_count": 3,
   "id": "93619b49-dc80-49eb-8e55-47c9149d9234",
   "metadata": {},
   "outputs": [
    {
     "name": "stdin",
     "output_type": "stream",
     "text": [
      "Enter a name : malayalam\n"
     ]
    },
    {
     "name": "stdout",
     "output_type": "stream",
     "text": [
      "Palindrome\n",
      "{'m': 2, 'a': 4, 'l': 2, 'y': 1}\n"
     ]
    }
   ],
   "source": [
    "''' Program to check whether the given string is palindrom or not and count the palindrom characters which are repeated\n",
    "str=madam\n",
    "output:{'m':2, 'a':2, 'd':1}\n",
    "str = malayalam '''\n",
    "text=input(\"Enter a name :\")\n",
    "if text==text[::-1]:\n",
    "    print(\"Palindrome\")\n",
    "else:\n",
    "    print(\"Not\")\n",
    "freq={}\n",
    "for ch in text:\n",
    "    freq[ch]=freq.get(ch,0)+1\n",
    "print(freq)"
   ]
  },
  {
   "cell_type": "code",
   "execution_count": 5,
   "id": "1c60d8f0-6989-4004-9382-c429e680297a",
   "metadata": {},
   "outputs": [
    {
     "name": "stdin",
     "output_type": "stream",
     "text": [
      "Enter the size of array 2\n"
     ]
    },
    {
     "name": "stdout",
     "output_type": "stream",
     "text": [
      "Enter the elements:\n"
     ]
    },
    {
     "name": "stdin",
     "output_type": "stream",
     "text": [
      "Element 1: 56\n",
      "Element 2: 3\n",
      "enter the elements to search: 2\n"
     ]
    },
    {
     "name": "stdout",
     "output_type": "stream",
     "text": [
      "\n",
      " Element 2 not found in the array\n"
     ]
    }
   ],
   "source": [
    "def linear_search(arr, key):\n",
    "    for i in range(len(arr)):\n",
    "        if arr[i]==key:\n",
    "            return i\n",
    "    return -1\n",
    "size = int(input(\"Enter the size of array\"))\n",
    "arr=[]\n",
    "print(\"Enter the elements:\")\n",
    "for i in range(size):\n",
    "    num = int(input(f\"Element {i+1}:\"))\n",
    "    arr.append(num)\n",
    "key=int(input(\"enter the elements to search:\"))\n",
    "result=linear_search(arr,key)\n",
    "if result != -1:\n",
    "    print(f\"\\n Element {key} found at {result}\")\n",
    "else:\n",
    "    print(f\"\\n Element {key} not found in the array\")"
   ]
  },
  {
   "cell_type": "code",
   "execution_count": null,
   "id": "4409e8ed-8b62-4c68-9dbc-57e14b1d0d45",
   "metadata": {},
   "outputs": [],
   "source": []
  }
 ],
 "metadata": {
  "kernelspec": {
   "display_name": "Python 3 (ipykernel)",
   "language": "python",
   "name": "python3"
  },
  "language_info": {
   "codemirror_mode": {
    "name": "ipython",
    "version": 3
   },
   "file_extension": ".py",
   "mimetype": "text/x-python",
   "name": "python",
   "nbconvert_exporter": "python",
   "pygments_lexer": "ipython3",
   "version": "3.12.7"
  }
 },
 "nbformat": 4,
 "nbformat_minor": 5
}
